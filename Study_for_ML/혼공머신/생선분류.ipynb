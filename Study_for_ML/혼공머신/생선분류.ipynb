{
  "nbformat": 4,
  "nbformat_minor": 0,
  "metadata": {
    "colab": {
      "name": "생선분류",
      "provenance": [],
      "collapsed_sections": [],
      "authorship_tag": "ABX9TyP2kZft8B4+AnY6tthNYdXg",
      "include_colab_link": true
    },
    "kernelspec": {
      "name": "python3",
      "display_name": "Python 3"
    },
    "language_info": {
      "name": "python"
    }
  },
  "cells": [
    {
      "cell_type": "markdown",
      "metadata": {
        "id": "view-in-github",
        "colab_type": "text"
      },
      "source": [
        "<a href=\"https://colab.research.google.com/github/Shin-GC/Study_for_ML/blob/main/%EC%83%9D%EC%84%A0%EB%B6%84%EB%A5%98.ipynb\" target=\"_parent\"><img src=\"https://colab.research.google.com/assets/colab-badge.svg\" alt=\"Open In Colab\"/></a>"
      ]
    },
    {
      "cell_type": "code",
      "metadata": {
        "colab": {
          "base_uri": "https://localhost:8080/",
          "height": 296
        },
        "id": "dOIZaRXcWTfK",
        "outputId": "b67ba33e-15ad-408a-873d-b2694040060e"
      },
      "source": [
        "import matplotlib.pyplot as plt #matplotlib의 pylot 함수를 plt로 줄여서 사용.\n",
        "\n",
        "# 도미의 길이\n",
        "bream_length = [25.4, 26.3, 26.5, 29.0, 29.0, 29.7, 29.7, 30.0, 30.0, 30.7, 31.0, 31.0, \n",
        "                31.5, 32.0, 32.0, 32.0, 33.0, 33.0, 33.5, 33.5, 34.0, 34.0, 34.5, 35.0, \n",
        "                35.0, 35.0, 35.0, 36.0, 36.0, 37.0, 38.5, 38.5, 39.5, 41.0, 41.0]\n",
        "# 도미의 무게\n",
        "bream_weight = [242.0, 290.0, 340.0, 363.0, 430.0, 450.0, 500.0, 390.0, 450.0, 500.0, 475.0, 500.0, \n",
        "                500.0, 340.0, 600.0, 600.0, 700.0, 700.0, 610.0, 650.0, 575.0, 685.0, 620.0, 680.0, \n",
        "                700.0, 725.0, 720.0, 714.0, 850.0, 1000.0, 920.0, 955.0, 925.0, 975.0, 950.0]\n",
        "# 빙어의 길이\n",
        "smelt_length = [9.8, 10.5, 10.6, 11.0, 11.2, 11.3, 11.8, 11.8, 12.0, 12.2, 12.4, 13.0, 14.3, 15.0]\n",
        "# 빙어의 무게\n",
        "smelt_weight = [6.7, 7.5, 7.0, 9.7, 9.8, 8.7, 10.0, 9.9, 9.8, 12.2, 13.4, 12.2, 19.7, 19.9]\n",
        "# 도미 리스트와 빙어 리스트 합치기\n",
        "length = bream_length + smelt_length\n",
        "weight = bream_weight + smelt_weight\n",
        "fish_data = [[l,w] for l, w in zip(length, weight)]\n",
        "\n",
        "# fish_data속 생선에 대한 답 1 = 도미 0 = 빙어\n",
        "fish_target = [1]*35 + [0]*14\n",
        "\n",
        "# K-NN 알고리즘을 구현한 클래스 KNeighborsClassifier 임포트하기\n",
        "from sklearn.neighbors import KNeighborsClassifier\n",
        "#K-NN 클래스 객체 만들기\n",
        "kn = KNeighborsClassifier()\n",
        "# K-NN 클래스 객체를 Training 시키기 [fit() 메서드 사용]\n",
        "kn.fit(fish_data, fish_target)\n",
        "\n",
        "# score 메서드를 통해 모델을 평가한다. [ 1에 가까울 수록 정확도가 높다.]\n",
        "kn.score(fish_data,fish_target)\n",
        "\n",
        "# 새로운 데이터를 넣어 도미인지 빙어인지 결과 알아내기\n",
        "who = kn.predict([[30,650]])\n",
        "\n",
        "if who == 1:\n",
        "  print('도미')\n",
        "elif who == 0:\n",
        "  print('빙어')\n",
        "\n",
        "# K-NN 알고리즘의 참고데이터 수 지정해주기 Default = 5\n",
        "kn49 = KNeighborsClassifier(n_neighbors=49)\n",
        "# 이럴 경우 49개의 모든 생선 데이터를 참고 하기 때문에 어떤 데이터를 넣어도 도미로 판단한다.\n",
        "kn49.fit(fish_data, fish_target)\n",
        "kn49.score(fish_data, fish_target)\n",
        "# kn49 모델은 도미만 올바르게 맞히기 때문에 정확도가 35/49 인 0.71이 나온다.\n",
        "\n",
        "plt.scatter(bream_length, bream_weight, c=\"r\")\n",
        "plt.scatter(smelt_length, smelt_weight, c='g')\n",
        "plt.scatter(30, 650, marker='^')\n",
        "plt.xlabel('length')\n",
        "plt.ylabel('weight')\n",
        "plt.show()\n"
      ],
      "execution_count": null,
      "outputs": [
        {
          "output_type": "stream",
          "text": [
            "도미\n"
          ],
          "name": "stdout"
        },
        {
          "output_type": "display_data",
          "data": {
            "image/png": "[encoded data removed]",
            "text/plain": [
              "<Figure size 432x288 with 1 Axes>"
            ]
          },
          "metadata": {
            "tags": [],
            "needs_background": "light"
          }
        }
      ]
    },
    {
      "cell_type": "code",
      "metadata": {
        "id": "_zSDh4DZpVoI"
      },
      "source": [
        ""
      ],
      "execution_count": null,
      "outputs": []
    },
    {
      "cell_type": "code",
      "metadata": {
        "id": "TKGc5eF8e8mt"
      },
      "source": [
        ""
      ],
      "execution_count": null,
      "outputs": []
    }
  ]
}